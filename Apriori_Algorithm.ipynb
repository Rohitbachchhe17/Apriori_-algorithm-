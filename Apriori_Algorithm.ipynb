{
  "nbformat": 4,
  "nbformat_minor": 0,
  "metadata": {
    "colab": {
      "private_outputs": true,
      "provenance": [],
      "authorship_tag": "ABX9TyPa4fDDOWYHCm98mU95DNsO",
      "include_colab_link": true
    },
    "kernelspec": {
      "name": "python3",
      "display_name": "Python 3"
    },
    "language_info": {
      "name": "python"
    }
  },
  "cells": [
    {
      "cell_type": "markdown",
      "metadata": {
        "id": "view-in-github",
        "colab_type": "text"
      },
      "source": [
        "<a href=\"https://colab.research.google.com/github/Rohitbachchhe17/Apriori_-algorithm-/blob/main/Apriori_Algorithm.ipynb\" target=\"_parent\"><img src=\"https://colab.research.google.com/assets/colab-badge.svg\" alt=\"Open In Colab\"/></a>"
      ]
    },
    {
      "cell_type": "code",
      "execution_count": null,
      "metadata": {
        "id": "-HSBFEGcsUxf"
      },
      "outputs": [],
      "source": [
        "\n",
        "import numpy as np\n",
        "\n",
        "import pandas as pd\n",
        "\n",
        "from mlxtend.frequent_patterns import apriori, association_rules"
      ]
    },
    {
      "cell_type": "code",
      "source": [
        "# Loading the Data\n",
        "\n",
        "data = pd.read_excel('/content/Online Retail.xlsx')\n",
        "data.head()"
      ],
      "metadata": {
        "id": "or7JzQK9sXYP"
      },
      "execution_count": null,
      "outputs": []
    },
    {
      "cell_type": "code",
      "source": [
        "# Exploring the columns of the data\n",
        "data.columns"
      ],
      "metadata": {
        "id": "_ao2quJStiNV"
      },
      "execution_count": null,
      "outputs": []
    },
    {
      "cell_type": "code",
      "source": [
        "# Exploring the different regions of transactions\n",
        "data.Country.unique()"
      ],
      "metadata": {
        "id": "HRNjG_K-txWE"
      },
      "execution_count": null,
      "outputs": []
    },
    {
      "cell_type": "code",
      "source": [
        "# Stripping extra spaces in the description\n",
        "\n",
        "data['Description'] = data['Description'].str.strip()\n",
        "\n",
        "\n",
        "# Dropping the rows without any invoice number\n",
        "\n",
        "data.dropna(axis = 0, subset =['InvoiceNo'], inplace = True)\n",
        "\n",
        "data['InvoiceNo'] = data['InvoiceNo'].astype('str')\n",
        "\n",
        "\n",
        "# Dropping all transactions which were done on credit\n",
        "\n",
        "data = data[~data['InvoiceNo'].str.contains('C')]"
      ],
      "metadata": {
        "id": "VMlekD2it2pS"
      },
      "execution_count": null,
      "outputs": []
    },
    {
      "cell_type": "code",
      "source": [
        "# Transactions done in France\n",
        "\n",
        "basket_France = (data[data['Country'] ==\"France\"]\n",
        "\n",
        "          .groupby(['InvoiceNo', 'Description'])['Quantity']\n",
        "\n",
        "          .sum().unstack().reset_index().fillna(0)\n",
        "\n",
        "          .set_index('InvoiceNo'))\n",
        "\n",
        "\n",
        "# Transactions done in the United Kingdom\n",
        "\n",
        "basket_UK = (data[data['Country'] ==\"United Kingdom\"]\n",
        "\n",
        "          .groupby(['InvoiceNo', 'Description'])['Quantity']\n",
        "\n",
        "          .sum().unstack().reset_index().fillna(0)\n",
        "\n",
        "          .set_index('InvoiceNo'))\n",
        "\n",
        "\n",
        "# Transactions done in Portugal\n",
        "\n",
        "basket_Por = (data[data['Country'] ==\"Portugal\"]\n",
        "\n",
        "          .groupby(['InvoiceNo', 'Description'])['Quantity']\n",
        "\n",
        "          .sum().unstack().reset_index().fillna(0)\n",
        "\n",
        "          .set_index('InvoiceNo'))\n",
        "\n",
        "\n",
        "\n",
        "basket_Sweden = (data[data['Country'] ==\"Sweden\"]\n",
        "\n",
        "          .groupby(['InvoiceNo', 'Description'])['Quantity']\n",
        "\n",
        "          .sum().unstack().reset_index().fillna(0)\n",
        "\n",
        "          .set_index('InvoiceNo'))"
      ],
      "metadata": {
        "id": "0g2cXGPjuCQ3"
      },
      "execution_count": null,
      "outputs": []
    },
    {
      "cell_type": "code",
      "source": [
        "# Defining the hot encoding function to make the data suitable\n",
        "# for the concerned libraries\n",
        "\n",
        "def hot_encode(x):\n",
        "\n",
        "    if(x<= 0):\n",
        "\n",
        "        return 0\n",
        "\n",
        "    if(x>= 1):\n",
        "\n",
        "        return 1\n",
        "\n",
        "\n",
        "# Encoding the datasets\n",
        "\n",
        "basket_encoded = basket_France.applymap(hot_encode)\n",
        "\n",
        "basket_France = basket_encoded\n",
        "\n",
        "\n",
        "\n",
        "basket_encoded = basket_UK.applymap(hot_encode)\n",
        "\n",
        "basket_UK = basket_encoded\n",
        "\n",
        "\n",
        "\n",
        "basket_encoded = basket_Por.applymap(hot_encode)\n",
        "\n",
        "basket_Por = basket_encoded\n",
        "\n",
        "\n",
        "\n",
        "basket_encoded = basket_Sweden.applymap(hot_encode)\n",
        "\n",
        "basket_Sweden = basket_encoded"
      ],
      "metadata": {
        "id": "hVBz1EROuG1y"
      },
      "execution_count": null,
      "outputs": []
    },
    {
      "cell_type": "code",
      "source": [
        "# Building the model\n",
        "\n",
        "frq_items = apriori(basket_France, min_support = 0.05, use_colnames = True)\n",
        "\n",
        "\n",
        "# Collecting the inferred rules in a dataframe\n",
        "\n",
        "rules = association_rules(frq_items, metric =\"lift\", min_threshold = 1)\n",
        "\n",
        "rules = rules.sort_values(['confidence', 'lift'], ascending =[False, False])\n",
        "\n",
        "print(rules.head())"
      ],
      "metadata": {
        "id": "AuzyQSnBuL-b"
      },
      "execution_count": null,
      "outputs": []
    },
    {
      "cell_type": "code",
      "source": [
        "frq_items = apriori(basket_UK, min_support = 0.01, use_colnames = True)\n",
        "\n",
        "rules = association_rules(frq_items, metric =\"lift\", min_threshold = 1)\n",
        "\n",
        "rules = rules.sort_values(['confidence', 'lift'], ascending =[False, False])\n",
        "\n",
        "print(rules.head())"
      ],
      "metadata": {
        "id": "KiSufdpZugDj"
      },
      "execution_count": null,
      "outputs": []
    },
    {
      "cell_type": "code",
      "source": [
        "frq_items = apriori(basket_Por, min_support = 0.05, use_colnames = True)\n",
        "\n",
        "rules = association_rules(frq_items, metric =\"lift\", min_threshold = 1)\n",
        "\n",
        "rules = rules.sort_values(['confidence', 'lift'], ascending =[False, False])\n",
        "\n",
        "print(rules.head())"
      ],
      "metadata": {
        "id": "-2spq9uYulZc"
      },
      "execution_count": null,
      "outputs": []
    },
    {
      "cell_type": "code",
      "source": [
        "frq_items = apriori(basket_Sweden, min_support = 0.05, use_colnames = True)\n",
        "\n",
        "rules = association_rules(frq_items, metric =\"lift\", min_threshold = 1)\n",
        "\n",
        "rules = rules.sort_values(['confidence', 'lift'], ascending =[False, False])\n",
        "\n",
        "print(rules.head())"
      ],
      "metadata": {
        "id": "vQ6nwthEuqeF"
      },
      "execution_count": null,
      "outputs": []
    }
  ]
}